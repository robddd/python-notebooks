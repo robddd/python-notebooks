{
 "cells": [
  {
   "cell_type": "markdown",
   "metadata": {},
   "source": [
    "# Matrix Multiply\n",
    " - Write matrix multiply using Python Lists\n",
    " - Optimize matrix multiplication using numpy"
   ]
  },
  {
   "cell_type": "markdown",
   "metadata": {},
   "source": [
    "### Python List Matrix Multiply\n",
    "Write a function to do matrix multiply of python lists, also include tests to ensure nested lists are of equal length, and matrices are of compatible size to be matrix multiplied"
   ]
  },
  {
   "cell_type": "code",
   "execution_count": 1,
   "metadata": {},
   "outputs": [],
   "source": [
    "def check_valid_matrix(mat):\n",
    "    '''Check matrix has same number of elements in all rows'''\n",
    "    cols = len(mat[0])\n",
    "    for c in mat:\n",
    "        assert cols == len(c)\n",
    "        \n",
    "              \n",
    "def get_shape(mat):\n",
    "    '''Return a tuple of (number of rows, number of columns) of a matrix'''\n",
    "    n_rows = len(mat)\n",
    "    n_cols = len(mat[0])\n",
    "    return (n_rows, n_cols)\n",
    "\n",
    "\n",
    "def init_result(shape):\n",
    "    '''Initialise Result Matrix to be all zeros'''\n",
    "    res = []\n",
    "    for i in range(shape[0]):\n",
    "        row = []\n",
    "        for j in range(shape[1]):\n",
    "            row.append(0)\n",
    "        res.append(row)\n",
    "    return res\n",
    "\n",
    "\n",
    "def get_col_vector(mat, col_i):\n",
    "    '''Take a 2D list and a column index and return a 1D list of all values in that column'''\n",
    "    col_vec = []\n",
    "    for row in mat:\n",
    "        col_vec.append(row[col_i])\n",
    "    return col_vec\n",
    "\n",
    "\n",
    "def matmul(a, b):\n",
    "    '''matrix multiply matrix a * matrix b'''\n",
    "    check_valid_matrix(a)\n",
    "    check_valid_matrix(b)\n",
    "    assert get_shape(a)[1] == get_shape(b)[0]\n",
    "    result_shape = get_shape(a)[0], get_shape(b)[1]\n",
    "    res = init_result(result_shape)\n",
    "    for i, row in enumerate(a):\n",
    "        for j in range(result_shape[1]):\n",
    "            col = get_col_vector(b, j)\n",
    "            r = 0\n",
    "            for e1, e2 in zip(row, col):\n",
    "                r = r + e1*e2\n",
    "            res[i][j] = r\n",
    "    return res"
   ]
  },
  {
   "cell_type": "markdown",
   "metadata": {},
   "source": [
    "Test by multiplying a 4x3 matrix with a 3x2 matrix"
   ]
  },
  {
   "cell_type": "code",
   "execution_count": 2,
   "metadata": {},
   "outputs": [],
   "source": [
    "a = [[1, 2, 3], [4, 5, 6], [7, 8, 9], [10, 11, 12]]\n",
    "b = [[2, 4], [6, 8], [10, 12]]"
   ]
  },
  {
   "cell_type": "code",
   "execution_count": 3,
   "metadata": {},
   "outputs": [
    {
     "data": {
      "text/plain": [
       "[[44, 56], [98, 128], [152, 200], [206, 272]]"
      ]
     },
     "execution_count": 3,
     "metadata": {},
     "output_type": "execute_result"
    }
   ],
   "source": [
    "matmul(a, b)"
   ]
  },
  {
   "cell_type": "markdown",
   "metadata": {},
   "source": [
    "Result is 4x2 matrix as expected and looks good"
   ]
  },
  {
   "cell_type": "markdown",
   "metadata": {},
   "source": [
    "### Optimize using numpy"
   ]
  },
  {
   "cell_type": "code",
   "execution_count": 4,
   "metadata": {},
   "outputs": [],
   "source": [
    "import numpy as np"
   ]
  },
  {
   "cell_type": "code",
   "execution_count": 5,
   "metadata": {},
   "outputs": [],
   "source": [
    "def np_matmul(a, b):\n",
    "    '''matrix multiply in numpy using 3x explicit for loops'''\n",
    "    res = np.zeros([a.shape[0], b.shape[1]])\n",
    "    for i in range(a.shape[0]):\n",
    "        for j in range(b.shape[1]):\n",
    "            for k in range(a.shape[1]):\n",
    "                res[i, j] += a[i, k] * b[k, j]\n",
    "    return res\n",
    "    "
   ]
  },
  {
   "cell_type": "code",
   "execution_count": 6,
   "metadata": {},
   "outputs": [
    {
     "data": {
      "text/plain": [
       "array([[ 44.,  56.],\n",
       "       [ 98., 128.],\n",
       "       [152., 200.],\n",
       "       [206., 272.]])"
      ]
     },
     "execution_count": 6,
     "metadata": {},
     "output_type": "execute_result"
    }
   ],
   "source": [
    "# convert lists a and b to numpy arrays so numpy array methods can be used\n",
    "a, b = np.array(a), np.array(b)\n",
    "# test result\n",
    "np_matmul(a, b)"
   ]
  },
  {
   "cell_type": "markdown",
   "metadata": {},
   "source": [
    "Result looks good.\n",
    "\n",
    "Now use numpy element wise multiply and sum to replace the inner most loop."
   ]
  },
  {
   "cell_type": "code",
   "execution_count": 8,
   "metadata": {},
   "outputs": [],
   "source": [
    "def np_matmul2(a, b):\n",
    "    res = np.zeros([a.shape[0], b.shape[1]])\n",
    "    for i in range(a.shape[0]):\n",
    "        for j in range(b.shape[1]):\n",
    "            res[i, j] = (a[i, :] * b[:, j]).sum()\n",
    "    return res\n",
    "    "
   ]
  },
  {
   "cell_type": "markdown",
   "metadata": {},
   "source": [
    "Now use broadcasting to replace the next inner most loop so that python for loop only needs to be run over the rows of the first matrix being multiplied"
   ]
  },
  {
   "cell_type": "code",
   "execution_count": 9,
   "metadata": {},
   "outputs": [],
   "source": [
    "def np_matmul3(a, b):\n",
    "    res = np.zeros([a.shape[0], b.shape[1]])\n",
    "    for i in range(a.shape[0]):\n",
    "        res[i] = (a[i][:, None] * b).sum(0)\n",
    "    return res"
   ]
  },
  {
   "cell_type": "markdown",
   "metadata": {},
   "source": [
    "Make larger matrices so that times can be compared between different implementations"
   ]
  },
  {
   "cell_type": "code",
   "execution_count": 10,
   "metadata": {},
   "outputs": [],
   "source": [
    "c = np.arange(15000).reshape([50, 300])\n",
    "d = np.arange(6000).reshape([300, 20])"
   ]
  },
  {
   "cell_type": "code",
   "execution_count": 12,
   "metadata": {},
   "outputs": [
    {
     "name": "stdout",
     "output_type": "stream",
     "text": [
      "122 ms ± 3.52 ms per loop (mean ± std. dev. of 7 runs, 10 loops each)\n",
      "\n",
      "[179101000, 179145850, 179190700]\n",
      "...\n"
     ]
    }
   ],
   "source": [
    "%timeit -n 10 r = matmul(c, d)\n",
    "print(f'\\n{r[0][:3]}\\n...')"
   ]
  },
  {
   "cell_type": "code",
   "execution_count": 14,
   "metadata": {},
   "outputs": [
    {
     "name": "stdout",
     "output_type": "stream",
     "text": [
      "186 ms ± 4.86 ms per loop (mean ± std. dev. of 7 runs, 10 loops each)\n",
      "\n",
      "[1.7910100e+08 1.7914585e+08 1.7919070e+08]\n",
      "...\n"
     ]
    }
   ],
   "source": [
    "%timeit -n 10 r = np_matmul(c, d)\n",
    "print(f'\\n{r[0, :3]}\\n...')"
   ]
  },
  {
   "cell_type": "code",
   "execution_count": 15,
   "metadata": {},
   "outputs": [
    {
     "name": "stdout",
     "output_type": "stream",
     "text": [
      "12.1 ms ± 2.04 ms per loop (mean ± std. dev. of 7 runs, 10 loops each)\n",
      "\n",
      "[1.7910100e+08 1.7914585e+08 1.7919070e+08]\n",
      "...\n"
     ]
    }
   ],
   "source": [
    "%timeit -n 10 r = np_matmul2(c, d)\n",
    "print(f'\\n{r[0, :3]}\\n...')"
   ]
  },
  {
   "cell_type": "code",
   "execution_count": 17,
   "metadata": {},
   "outputs": [
    {
     "name": "stdout",
     "output_type": "stream",
     "text": [
      "3.06 ms ± 1.16 ms per loop (mean ± std. dev. of 7 runs, 10 loops each)\n",
      "\n",
      "[1.7910100e+08 1.7914585e+08 1.7919070e+08]\n",
      "...\n"
     ]
    }
   ],
   "source": [
    "%timeit -n 10 r = np_matmul3(c, d)\n",
    "print(f'\\n{r[0, :3]}\\n...')"
   ]
  },
  {
   "cell_type": "code",
   "execution_count": 18,
   "metadata": {},
   "outputs": [
    {
     "name": "stdout",
     "output_type": "stream",
     "text": [
      "375 µs ± 51.9 µs per loop (mean ± std. dev. of 7 runs, 10 loops each)\n",
      "\n",
      "[1.7910100e+08 1.7914585e+08 1.7919070e+08]\n",
      "...\n"
     ]
    }
   ],
   "source": [
    "%timeit -n 10 r = np.matmul(c, d) # also can use: c@d\n",
    "print(f'\\n{r[0, :3]}\\n...')"
   ]
  },
  {
   "cell_type": "code",
   "execution_count": 20,
   "metadata": {},
   "outputs": [],
   "source": [
    "import pandas as pd"
   ]
  },
  {
   "cell_type": "code",
   "execution_count": 21,
   "metadata": {},
   "outputs": [],
   "source": [
    "results = pd.DataFrame({'implementation': ['python', 'np_matmul', 'np_matmul2', 'np_matmul3', 'np_native']})"
   ]
  },
  {
   "cell_type": "code",
   "execution_count": 22,
   "metadata": {},
   "outputs": [],
   "source": [
    "results['time'] = [122, 186, 12,3, 0.4]"
   ]
  },
  {
   "cell_type": "code",
   "execution_count": 26,
   "metadata": {},
   "outputs": [],
   "source": [
    "results['improvement'] = results['time'].apply( lambda x: 122/x )"
   ]
  },
  {
   "cell_type": "code",
   "execution_count": 30,
   "metadata": {},
   "outputs": [],
   "source": [
    "results['comments'] = ['Implementing with Python Lists', \n",
    "                       'Using 3 for loops over numpy arrays is slower',\n",
    "                       'Removing inner loop is 10x faster than Python',\n",
    "                       'Removing next inner loop 40x faster',\n",
    "                       'Numpy\\'s implementation 300x faster']"
   ]
  },
  {
   "cell_type": "code",
   "execution_count": 31,
   "metadata": {},
   "outputs": [
    {
     "data": {
      "text/html": [
       "<div>\n",
       "<style scoped>\n",
       "    .dataframe tbody tr th:only-of-type {\n",
       "        vertical-align: middle;\n",
       "    }\n",
       "\n",
       "    .dataframe tbody tr th {\n",
       "        vertical-align: top;\n",
       "    }\n",
       "\n",
       "    .dataframe thead th {\n",
       "        text-align: right;\n",
       "    }\n",
       "</style>\n",
       "<table border=\"1\" class=\"dataframe\">\n",
       "  <thead>\n",
       "    <tr style=\"text-align: right;\">\n",
       "      <th></th>\n",
       "      <th>implementation</th>\n",
       "      <th>time</th>\n",
       "      <th>improvement</th>\n",
       "      <th>comments</th>\n",
       "    </tr>\n",
       "  </thead>\n",
       "  <tbody>\n",
       "    <tr>\n",
       "      <th>0</th>\n",
       "      <td>python</td>\n",
       "      <td>122.0</td>\n",
       "      <td>1.000000</td>\n",
       "      <td>Implementing with Python Lists</td>\n",
       "    </tr>\n",
       "    <tr>\n",
       "      <th>1</th>\n",
       "      <td>np_matmul</td>\n",
       "      <td>186.0</td>\n",
       "      <td>0.655914</td>\n",
       "      <td>Using 3 for loops over numpy arrays is slower</td>\n",
       "    </tr>\n",
       "    <tr>\n",
       "      <th>2</th>\n",
       "      <td>np_matmul2</td>\n",
       "      <td>12.0</td>\n",
       "      <td>10.166667</td>\n",
       "      <td>Removing inner loop is 10x faster than Python</td>\n",
       "    </tr>\n",
       "    <tr>\n",
       "      <th>3</th>\n",
       "      <td>np_matmul3</td>\n",
       "      <td>3.0</td>\n",
       "      <td>40.666667</td>\n",
       "      <td>Removing next inner loop 40x faster</td>\n",
       "    </tr>\n",
       "    <tr>\n",
       "      <th>4</th>\n",
       "      <td>np_native</td>\n",
       "      <td>0.4</td>\n",
       "      <td>305.000000</td>\n",
       "      <td>Numpy's implementation 300x faster</td>\n",
       "    </tr>\n",
       "  </tbody>\n",
       "</table>\n",
       "</div>"
      ],
      "text/plain": [
       "  implementation   time  improvement  \\\n",
       "0         python  122.0     1.000000   \n",
       "1      np_matmul  186.0     0.655914   \n",
       "2     np_matmul2   12.0    10.166667   \n",
       "3     np_matmul3    3.0    40.666667   \n",
       "4      np_native    0.4   305.000000   \n",
       "\n",
       "                                        comments  \n",
       "0                 Implementing with Python Lists  \n",
       "1  Using 3 for loops over numpy arrays is slower  \n",
       "2  Removing inner loop is 10x faster than Python  \n",
       "3            Removing next inner loop 40x faster  \n",
       "4             Numpy's implementation 300x faster  "
      ]
     },
     "execution_count": 31,
     "metadata": {},
     "output_type": "execute_result"
    }
   ],
   "source": [
    "results"
   ]
  },
  {
   "cell_type": "code",
   "execution_count": null,
   "metadata": {},
   "outputs": [],
   "source": []
  }
 ],
 "metadata": {
  "kernelspec": {
   "display_name": "Python 3",
   "language": "python",
   "name": "python3"
  },
  "language_info": {
   "codemirror_mode": {
    "name": "ipython",
    "version": 3
   },
   "file_extension": ".py",
   "mimetype": "text/x-python",
   "name": "python",
   "nbconvert_exporter": "python",
   "pygments_lexer": "ipython3",
   "version": "3.6.6+"
  }
 },
 "nbformat": 4,
 "nbformat_minor": 2
}
